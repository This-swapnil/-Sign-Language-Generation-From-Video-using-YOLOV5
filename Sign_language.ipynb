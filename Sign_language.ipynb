{
 "cells": [
  {
   "attachments": {},
   "cell_type": "markdown",
   "metadata": {},
   "source": [
    "### Define Model Configuration and Architecture\n",
    "We will write a yaml script that defines the parameters for our model like the number of classes, anchors, and each layer.\n",
    "\n",
    "You do not need to edit these cells, but you may."
   ]
  },
  {
   "cell_type": "code",
   "execution_count": 4,
   "metadata": {},
   "outputs": [],
   "source": [
    "# define number of classes based on YAML\n",
    "import yaml\n",
    "with open(\"data.yaml\", 'r') as stream:\n",
    "    num_classes = str(yaml.safe_load(stream)['nc'])\n"
   ]
  },
  {
   "cell_type": "code",
   "execution_count": 5,
   "metadata": {},
   "outputs": [
    {
     "data": {
      "text/plain": [
       "'6'"
      ]
     },
     "execution_count": 5,
     "metadata": {},
     "output_type": "execute_result"
    }
   ],
   "source": [
    "num_classes"
   ]
  },
  {
   "attachments": {},
   "cell_type": "markdown",
   "metadata": {},
   "source": [
    "### Train Custom YOLOv5 Detector\n",
    "#### Next, we'll fire off training!\n",
    "Here, we are able to pass a number of arguments:\n",
    "\n",
    "- img: define input image size\n",
    "- batch: determine batch size\n",
    "- epochs: define the number of training epochs. (Note: often, 3000+ are common here!)\n",
    "- data: set the path to our yaml file\n",
    "- cfg: specify our model configuration\n",
    "- weights: specify a custom path to weights. (Note: you can download weights from the Ultralytics Google Drive folder)\n",
    "- name: result names\n",
    "- nosave: only save the final checkpoint\n",
    "- cache: cache images for faster training"
   ]
  },
  {
   "cell_type": "code",
   "execution_count": null,
   "metadata": {},
   "outputs": [],
   "source": []
  }
 ],
 "metadata": {
  "kernelspec": {
   "display_name": "Python 3",
   "language": "python",
   "name": "python3"
  },
  "language_info": {
   "codemirror_mode": {
    "name": "ipython",
    "version": 3
   },
   "file_extension": ".py",
   "mimetype": "text/x-python",
   "name": "python",
   "nbconvert_exporter": "python",
   "pygments_lexer": "ipython3",
   "version": "3.7.16"
  },
  "orig_nbformat": 4
 },
 "nbformat": 4,
 "nbformat_minor": 2
}
